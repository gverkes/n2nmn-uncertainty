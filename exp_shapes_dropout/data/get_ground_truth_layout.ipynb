{
 "cells": [
  {
   "cell_type": "code",
   "execution_count": 1,
   "metadata": {
    "collapsed": false
   },
   "outputs": [],
   "source": [
    "import json\n",
    "import glob\n",
    "import sexpdata\n",
    "\n",
    "def extract_parse(p):\n",
    "    if isinstance(p, sexpdata.Symbol):\n",
    "        return p.value()\n",
    "    elif isinstance(p, int):\n",
    "        return str(p)\n",
    "    elif isinstance(p, bool):\n",
    "        return str(p).lower()\n",
    "    elif isinstance(p, float):\n",
    "        return str(p).lower()\n",
    "    return tuple(extract_parse(q) for q in p)\n",
    "\n",
    "def parse_tree(p):\n",
    "    if \"'\" in p:\n",
    "        p = \"none\"\n",
    "    parsed = sexpdata.loads(p)\n",
    "    extracted = extract_parse(parsed)\n",
    "    return extracted\n",
    "\n",
    "def layout_from_parsing(parse):\n",
    "    if isinstance(parse, str):\n",
    "        return (\"_Find\",)\n",
    "    head = parse[0]\n",
    "    if len(parse) > 2:  # fuse multiple tokens with \"_And\"\n",
    "        assert(len(parse)) == 3\n",
    "        below = (\"_And\", layout_from_parsing(parse[1]),\n",
    "                 layout_from_parsing(parse[2]))\n",
    "    else:\n",
    "        below = layout_from_parsing(parse[1])\n",
    "    if head == \"is\":\n",
    "        module = \"_Answer\"\n",
    "    elif head in [\"above\", \"below\", \"left_of\", \"right_of\"]:\n",
    "        module = \"_Transform\"\n",
    "    return (module, below)\n",
    "\n",
    "def flatten_layout(module_layout):\n",
    "    # Postorder traversal to generate Reverse Polish Notation (RPN)\n",
    "    if isinstance(module_layout, str):\n",
    "        return [module_layout]\n",
    "    RPN = []\n",
    "    module = module_layout[0]\n",
    "    for m in module_layout[1:]:\n",
    "        RPN += flatten_layout(m)\n",
    "    RPN += [module]\n",
    "    return RPN"
   ]
  },
  {
   "cell_type": "code",
   "execution_count": 2,
   "metadata": {
    "collapsed": true
   },
   "outputs": [],
   "source": [
    "data_files = glob.glob('../../exp-vqa-shape/vqa_shape_dataset/*.query')"
   ]
  },
  {
   "cell_type": "code",
   "execution_count": 3,
   "metadata": {
    "collapsed": false
   },
   "outputs": [],
   "source": [
    "for file in data_files:\n",
    "    with open(file) as f:\n",
    "        layout_symbols = [flatten_layout(layout_from_parsing(parse_tree(l)))\n",
    "                          for l in f.readlines()]\n",
    "    save_file = file.replace('vqa_shape_dataset', 'data') + '_layout_symbols.json'\n",
    "    with open(save_file, 'w') as f:\n",
    "        json.dump(layout_symbols, f)"
   ]
  }
 ],
 "metadata": {
  "anaconda-cloud": {},
  "kernelspec": {
   "display_name": "Python [conda root]",
   "language": "python",
   "name": "conda-root-py"
  },
  "language_info": {
   "codemirror_mode": {
    "name": "ipython",
    "version": 3
   },
   "file_extension": ".py",
   "mimetype": "text/x-python",
   "name": "python",
   "nbconvert_exporter": "python",
   "pygments_lexer": "ipython3",
   "version": "3.5.1"
  }
 },
 "nbformat": 4,
 "nbformat_minor": 1
}
